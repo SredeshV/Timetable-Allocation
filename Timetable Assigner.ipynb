{
 "cells": [
  {
   "cell_type": "markdown",
   "id": "3c390609",
   "metadata": {},
   "source": [
    "# What it Does?\n",
    "\n",
    "The Dataset contains the name of the available faculties, their category, priority rank(Associate Professor-1,Assistant Professor-2,Professor-3) which is assigned based on the assumption that the faculty who is neither at the higher position nor the lower position is both readily available as well as experienced to teach too, so they are given 1st priority. Assistant professors generally have less commitments compared to their seniors, and are also looking out to expand their exxperience, so they are given 2nd priority.Professors usually tend to be more busy with many commitments due to their seniority, so they are given the least priority.\n",
    "\n",
    "Each faculty have given their priority of subjects to teach in order.\n",
    "\n",
    "Based on the above said preconditions, this model will assign one faculty to each subjects.\n",
    "\n",
    "In our case, we have 9 available faculties for teaching 9 department subjects, each of them with different seniority and different preferences.\n",
    "\n",
    "This model can be extended too, based on the requiremenet."
   ]
  },
  {
   "cell_type": "code",
   "execution_count": 2,
   "id": "3647c303",
   "metadata": {},
   "outputs": [
    {
     "name": "stdout",
     "output_type": "stream",
     "text": [
      "Faculty ABC assigned to AUIT\n",
      "Faculty GHI assigned to AI LAB\n",
      "Faculty YZ assigned to AI\n",
      "Faculty DEF assigned to CD\n",
      "Faculty JKL assigned to CNS\n",
      "Faculty PQR assigned to MLT\n",
      "Faculty STU assigned to PE\n",
      "Faculty MNO assigned to CD LAB\n",
      "Faculty VWX assigned to ML LAB\n",
      "\n",
      "Assigned Subjects:\n",
      "AUIT: Faculty ABC\n",
      "AI LAB: Faculty GHI\n",
      "AI: Faculty YZ\n",
      "CD: Faculty DEF\n",
      "CNS: Faculty JKL\n",
      "MLT: Faculty PQR\n",
      "PE: Faculty STU\n",
      "CD LAB: Faculty MNO\n",
      "ML LAB: Faculty VWX\n"
     ]
    }
   ],
   "source": [
    "import pandas as pd\n",
    "\n",
    "df = pd.read_excel('Timetable Allocation.xlsx')\n",
    "\n",
    "df_sorted = df.sort_values(by='Priority Rank', ascending=True)\n",
    "\n",
    "assigned_subjects = {}\n",
    "\n",
    "def assign_subjects(faculty, choices):\n",
    "    for choice in choices:\n",
    "        if choice not in assigned_subjects:\n",
    "            assigned_subjects[choice] = faculty\n",
    "            return choice\n",
    "    return None\n",
    "\n",
    "\n",
    "for index, row in df_sorted.iterrows():\n",
    "    faculty = row['Faculty']\n",
    "    choices = [row[f'Choice{i}'] for i in range(1, 10)]\n",
    "    assigned_subject = assign_subjects(faculty, choices)\n",
    "    if assigned_subject:\n",
    "        print(f\"Faculty {faculty} assigned to {assigned_subject}\")\n",
    "    else:\n",
    "        print(f\"No available subjects for Faculty {faculty}\")\n",
    "\n",
    "\n",
    "print(\"\\nAssigned Subjects:\")\n",
    "for subject, faculty in assigned_subjects.items():\n",
    "    print(f\"{subject}: Faculty {faculty}\")\n"
   ]
  },
  {
   "cell_type": "code",
   "execution_count": null,
   "id": "f0a43bde",
   "metadata": {},
   "outputs": [],
   "source": []
  }
 ],
 "metadata": {
  "kernelspec": {
   "display_name": "Python 3 (ipykernel)",
   "language": "python",
   "name": "python3"
  },
  "language_info": {
   "codemirror_mode": {
    "name": "ipython",
    "version": 3
   },
   "file_extension": ".py",
   "mimetype": "text/x-python",
   "name": "python",
   "nbconvert_exporter": "python",
   "pygments_lexer": "ipython3",
   "version": "3.11.5"
  }
 },
 "nbformat": 4,
 "nbformat_minor": 5
}
